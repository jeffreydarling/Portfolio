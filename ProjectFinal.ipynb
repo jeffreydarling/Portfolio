{
 "metadata": {
  "name": ""
 },
 "nbformat": 3,
 "nbformat_minor": 0,
 "worksheets": [
  {
   "cells": [
    {
     "cell_type": "heading",
     "level": 1,
     "metadata": {},
     "source": [
      "Stat222 Capstone Project - Pairs Trading"
     ]
    },
    {
     "cell_type": "heading",
     "level": 2,
     "metadata": {},
     "source": [
      "This notebook, data files, and plots can be accessed on GitHub at:\n",
      "https://github.com/jeffreydarling/222project"
     ]
    },
    {
     "cell_type": "heading",
     "level": 3,
     "metadata": {},
     "source": [
      "Import required libraries"
     ]
    },
    {
     "cell_type": "code",
     "collapsed": false,
     "input": [
      "import pandas as pd\n",
      "import scipy.stats as stats\n",
      "import numpy as np\n",
      "import matplotlib.pyplot as plt\n",
      "import statsmodels.api as stat\n",
      "import statsmodels.tsa.stattools as ts\n",
      "from itertools import combinations\n",
      "import multiprocessing\n",
      "from multiprocessing import Pool\n",
      "import cPickle as pkl"
     ],
     "language": "python",
     "metadata": {},
     "outputs": [],
     "prompt_number": 2
    },
    {
     "cell_type": "heading",
     "level": 3,
     "metadata": {},
     "source": [
      "Using manually downloaded WRDS (Wharton) data"
     ]
    },
    {
     "cell_type": "raw",
     "metadata": {},
     "source": [
      "# Run first time only to extract data from wrds download file and create training and test data sets\n",
      "# Change cell from raw text to code to run\n",
      "\n",
      "# Unzip and import sorted stock data - currently using test file to manage load times\n",
      "!gunzip -c wrdsDownload.csv.gz | head -n1 > wrdsSorted.csv\n",
      "!gunzip -c wrdsDownload.csv.gz | tail -n +2 | sort -t, -k2,2 >> wrdsSorted.csv\n",
      "\n",
      "# Use absolute values to clean up incorrect negative values\n",
      "wrdsData = pd.io.parsers.read_csv(\"wrdsSorted.csv\", sep = \",\", index_col=[0,1], parse_dates=0, usecols = [1,2,3]).abs()\n",
      "\n",
      "# Known issue with usecols is wrong index names\n",
      "wrdsData.index.names = ['date', 'ticker']\n",
      "wrdsData.head()\n",
      "\n",
      "# Sort and remove duplicate indices\n",
      "wrdsDirty = wrdsData.reset_index().groupby(wrdsData.index.names).first()\n",
      "wrdsClean = wrdsDirty.reset_index().pivot('date','ticker','PRC')\n",
      "\n",
      "#Create training and testing data sets\n",
      "trainData = wrdsClean.ix['20110103':'20121231'].dropna(axis=1, how='all')\n",
      "testData = wrdsClean.ix['20130102':'20131231']"
     ]
    },
    {
     "cell_type": "raw",
     "metadata": {},
     "source": [
      "# Run first time only to output training data set in pickle format\n",
      "# Change cell from raw text to code to run\n",
      "\n",
      "trainOutput = open('trainData.pkl', 'wb')\n",
      "pkl.dump(trainData, trainOutput, -1)\n",
      "trainOutput.close()"
     ]
    },
    {
     "cell_type": "raw",
     "metadata": {},
     "source": [
      "# Run first time only to output test data set in pickle format\n",
      "# Change cell from raw text to code to run\n",
      "\n",
      "testOutput = open('testData.pkl', 'wb')\n",
      "pkl.dump(testData, testOutput, -1)\n",
      "testOutput.close()"
     ]
    },
    {
     "cell_type": "code",
     "collapsed": false,
     "input": [
      "trainInput = open('trainData.pkl', 'rb')\n",
      "trainData = pkl.load(trainInput)\n",
      "trainInput.close()"
     ],
     "language": "python",
     "metadata": {},
     "outputs": [],
     "prompt_number": 3
    },
    {
     "cell_type": "code",
     "collapsed": false,
     "input": [
      "testInput = open('testData.pkl', 'rb')\n",
      "testData = pkl.load(testInput)\n",
      "testInput.close()"
     ],
     "language": "python",
     "metadata": {},
     "outputs": [],
     "prompt_number": 4
    },
    {
     "cell_type": "heading",
     "level": 3,
     "metadata": {},
     "source": [
      "How many pairs are there?"
     ]
    },
    {
     "cell_type": "code",
     "collapsed": false,
     "input": [
      "# Extracts column headers from training data set and creates all possible pairs\n",
      "tickerlist = sorted(trainData.columns.tolist())[1:]\n",
      "tickerpairs = list(combinations(tickerlist,2))\n",
      "print tickerpairs[:10] # Look at first 10 combinations of pairs\n",
      "print len(tickerpairs) # Over 3 million possible pairs"
     ],
     "language": "python",
     "metadata": {},
     "outputs": [
      {
       "output_type": "stream",
       "stream": "stdout",
       "text": [
        "[('AAME', 'AAON'), ('AAME', 'AAPL'), ('AAME', 'AAWW'), ('AAME', 'AAXJ'), ('AAME', 'ABAX'), ('AAME', 'ABCB'), ('AAME', 'ABCD'), ('AAME', 'ABCO'), ('AAME', 'ABFS'), ('AAME', 'ABIO')]\n",
        "3232153\n"
       ]
      }
     ],
     "prompt_number": 5
    },
    {
     "cell_type": "heading",
     "level": 1,
     "metadata": {},
     "source": [
      "Training Data Set"
     ]
    },
    {
     "cell_type": "heading",
     "level": 3,
     "metadata": {},
     "source": [
      "Distance Method"
     ]
    },
    {
     "cell_type": "code",
     "collapsed": false,
     "input": [
      "# Parallel processing for mean sum-square-distance\n",
      "def dist(tlist):\n",
      "    xname = tlist[0]\n",
      "    yname = tlist[1]\n",
      "    x = trainData[xname]/(trainData[xname][0])\n",
      "    y = trainData[yname]/(trainData[yname][0])\n",
      "    # Remove any na values\n",
      "    z = (x-y).dropna()\n",
      "    # Only consider pairs with most of the data present\n",
      "    if len(z) > 495:\n",
      "        return([(xname, yname)], sum(map(lambda z:z**2, z)))\n",
      "    else:\n",
      "        return()\n",
      "\n",
      "if __name__ == '__main__':\n",
      "    trainDistPool = Pool(processes=4)\n",
      "    # Test just the first 100 pairs - remove [0:100] for full test - warning, takes a long time!!\n",
      "    trainDistResult = pd.DataFrame(trainDistPool.map(dist, tickerpairs[0:100]))\n",
      "\n",
      "trainDistPool.close()"
     ],
     "language": "python",
     "metadata": {},
     "outputs": [],
     "prompt_number": 6
    },
    {
     "cell_type": "raw",
     "metadata": {},
     "source": [
      "# Save results to pkl file - only run once when analyzing full data set\n",
      "# Change cell from raw text to code to run\n",
      "\n",
      "trainDistOutput = open('trainDistResult.pkl', 'wb')\n",
      "pkl.dump(trainDistResult, trainDistOutput, -1)\n",
      "trainDistOutput.close()\n",
      "\n",
      "smallssd = trainDistResult.sort(columns = 1)[0:5]\n",
      "print smallssd"
     ]
    },
    {
     "cell_type": "raw",
     "metadata": {},
     "source": [
      "# Save a copy for github - only run once when analyzing full data set\n",
      "# Change cell from raw text to code to run\n",
      "\n",
      "!gzip -k trainDistResult.pkl"
     ]
    },
    {
     "cell_type": "code",
     "collapsed": false,
     "input": [
      "# Unzip github file\n",
      "!gunzip -c trainDistResult.pkl.gz > trainDistResult.pkl"
     ],
     "language": "python",
     "metadata": {},
     "outputs": [],
     "prompt_number": 8
    },
    {
     "cell_type": "code",
     "collapsed": false,
     "input": [
      "# Read results from pkl file\n",
      "trainDistInput = open('trainDistResult.pkl', 'rb')\n",
      "trainDistResult = pkl.load(trainDistInput)\n",
      "trainDistInput.close()"
     ],
     "language": "python",
     "metadata": {},
     "outputs": [],
     "prompt_number": 9
    },
    {
     "cell_type": "code",
     "collapsed": false,
     "input": [
      "smallssd = trainDistResult.sort(columns = 1)[0:100]\n",
      "print smallssd"
     ],
     "language": "python",
     "metadata": {},
     "outputs": [
      {
       "output_type": "stream",
       "stream": "stdout",
       "text": [
        "                        0         1\n",
        "3221878    [(VONE, VTHR)]  0.013202\n",
        "2958608    [(PRFZ, VTWV)]  0.078365\n",
        "3217295    [(VCSH, VMBS)]  0.112965\n",
        "2459008  [(LBTYA, LBTYK)]  0.125308\n",
        "3225367    [(VTWG, VTWO)]  0.129157\n",
        "3217279    [(VCSH, VGSH)]  0.144788\n",
        "2958607    [(PRFZ, VTWO)]  0.153353\n",
        "84471      [(ACWX, IFSM)]  0.164394\n",
        "2832838    [(ONEQ, VONE)]  0.165975\n",
        "2832839    [(ONEQ, VONG)]  0.169638\n",
        "3222161    [(VONV, VTHR)]  0.184708\n",
        "108404     [(ADRD, ADRU)]  0.191009\n",
        "2832860    [(ONEQ, VTHR)]  0.214025\n",
        "3216758    [(VCIT, VGIT)]  0.230499\n",
        "2483677  [(LINTA, LINTB)]  0.235668\n",
        "2687682    [(MSEX, YORW)]  0.239340\n",
        "3225483    [(VTWO, VTWV)]  0.256559\n",
        "10988      [(AAXJ, FCHI)]  0.258966\n",
        "3012557    [(QQXT, VONG)]  0.260118\n",
        "3221858    [(VONE, VONV)]  0.264960\n",
        "2254103    [(IFGL, VNQI)]  0.267773\n",
        "3221857    [(VONE, VONG)]  0.274490\n",
        "1787334     [(FDV, QQEW)]  0.292310\n",
        "1787886     [(FDV, VTWG)]  0.319899\n",
        "573801     [(BANF, QABA)]  0.324042\n",
        "105904     [(ADRA, ADRE)]  0.335971\n",
        "958375    [(CENT, CENTA)]  0.336306\n",
        "81264       [(ACWI, CHW)]  0.339927\n",
        "3009253    [(QQEW, VTHR)]  0.348418\n",
        "552149     [(AXFN, GRID)]  0.352711\n",
        "1276784     [(CSQ, VTWO)]  0.354989\n",
        "3218140    [(VGSH, VMBS)]  0.358162\n",
        "10199      [(AAXJ, ADRA)]  0.375360\n",
        "552302     [(AXFN, IFSM)]  0.377309\n",
        "3222020    [(VONG, VTHR)]  0.378349\n",
        "84246      [(ACWX, FUND)]  0.380259\n",
        "3222166    [(VONV, VTWG)]  0.389194\n",
        "83367      [(ACWX, ADRD)]  0.392960\n",
        "1276758     [(CSQ, VONV)]  0.392992\n",
        "1322003    [(CUBA, VTWV)]  0.397307\n",
        "3009231    [(QQEW, VONE)]  0.399292\n",
        "1042134     [(CHW, PRFZ)]  0.403097\n",
        "1276783     [(CSQ, VTWG)]  0.411294\n",
        "2858139    [(OTTR, TCRD)]  0.413924\n",
        "2627678     [(MGF, YORW)]  0.416530\n",
        "110052     [(ADRD, PAGG)]  0.421563\n",
        "3009233    [(QQEW, VONV)]  0.425668\n",
        "1787861     [(FDV, VONV)]  0.430986\n",
        "2945343    [(PNQI, QQXT)]  0.431276\n",
        "1797179    [(FFBC, NBTB)]  0.436099\n",
        "3091438  [(SENEA, SENEB)]  0.440247\n",
        "3011915    [(QQQX, VTHR)]  0.440720\n",
        "2627530     [(MGF, VCSH)]  0.445798\n",
        "2687539    [(MSEX, VGSH)]  0.450024\n",
        "3011895    [(QQQX, VONV)]  0.451862\n",
        "82617      [(ACWI, PRFZ)]  0.455715\n",
        "1782730     [(FDI, VGIT)]  0.458783\n",
        "2033379    [(GRID, IFSM)]  0.459515\n",
        "2627535     [(MGF, VGSH)]  0.463582\n",
        "553624     [(AXFN, WOOD)]  0.477062\n",
        "                      ...       ...\n",
        "\n",
        "[100 rows x 2 columns]\n"
       ]
      }
     ],
     "prompt_number": 10
    },
    {
     "cell_type": "code",
     "collapsed": false,
     "input": [
      "# Time series plot of standardized stock prices\n",
      "# Updated to use parallel processing output\n",
      "\n",
      "plt.figure(1)\n",
      "i = 1\n",
      "for a in smallssd.index[0:5]:\n",
      "  stock1 = tickerpairs[a][0]\n",
      "  stock2 = tickerpairs[a][1]\n",
      "  pairsprice1 = trainData[stock1]/(trainData[stock1][0])\n",
      "  pairsprice2 = trainData[stock2]/(trainData[stock2][0])\n",
      "  plt.subplot(5,1,i)\n",
      "  plt.plot_date(pairsprice1.index, pairsprice1,'r')\n",
      "  plt.plot_date(pairsprice1.index, pairsprice2,'b')\n",
      "  plt.legend([stock1,stock2])\n",
      "  plt.xlabel('Date')\n",
      "  plt.ylabel('Standardized Price')\n",
      "  plt.title('Time Series Plot of '+stock1+' vs '+stock2)\n",
      "  i += 1\n",
      "\n",
      "plt.gcf().autofmt_xdate(rotation=90)  #Make the data labels on the x-axis vertical\n",
      "plt.show()"
     ],
     "language": "python",
     "metadata": {},
     "outputs": [],
     "prompt_number": 9
    },
    {
     "cell_type": "code",
     "collapsed": false,
     "input": [
      "# Time series plot of average gap in standardized price\n",
      "\n",
      "plt.figure(2)\n",
      "i = 1\n",
      "for a in smallssd.index[0:5]:\n",
      "  stock1 = tickerpairs[a][0]\n",
      "  stock2 = tickerpairs[a][1]\n",
      "  pairsprice1 = trainData[stock1]/(trainData[stock1][0])\n",
      "  pairsprice2 = trainData[stock2]/(trainData[stock2][0])\n",
      "  pairsgap = pairsprice1-pairsprice2\n",
      "  plt.subplot(5,1,i)\n",
      "  plt.plot(pairsprice1.index, pairsgap,'b')\n",
      "  plt.xlabel('Date')\n",
      "  plt.ylabel('Price')\n",
      "  plt.title('Gap Price between '+stock1+' vs '+stock2)\n",
      "  i += 1\n",
      "\n",
      "plt.gcf().autofmt_xdate(rotation=90)    #Make the data labels on the x-axis vertical\n",
      "plt.show()"
     ],
     "language": "python",
     "metadata": {},
     "outputs": [],
     "prompt_number": 12
    },
    {
     "cell_type": "heading",
     "level": 3,
     "metadata": {},
     "source": [
      "Co-Integration (ADF) Test"
     ]
    },
    {
     "cell_type": "code",
     "collapsed": false,
     "input": [
      "# Parallel processing for cointegration test:\n",
      "# Note - this test will sometimes hang depending on system resources\n",
      "# If it does, restart notebook and run this test prior to distance or correlation\n",
      "\n",
      "def cointegration_test(y, x):\n",
      "        ctresult = stat.OLS(y, x).fit()\n",
      "        return(ts.adfuller(ctresult.resid))\n",
      "\n",
      "\n",
      "def coint(cointTrainingTlist):\n",
      "    try:\n",
      "        cointTrainingXname = cointTrainingTlist[0]\n",
      "        cointTrainingYname = cointTrainingTlist[1]\n",
      "        trainCointX = trainData[cointTrainingXname]\n",
      "        trainCointY = trainData[cointTrainingYname]\n",
      "        if min(trainCointX.count(), trainCointY.count()) > 495:\n",
      "            trainxclean = trainCointX[trainCointX.notnull() & trainCointY.notnull()]\n",
      "            trainyclean = trainCointY[trainCointX.notnull() & trainCointY.notnull()]\n",
      "            trainxp = list(trainxclean)\n",
      "            trainyp = list(trainyclean)\n",
      "            return([(cointTrainingXname, cointTrainingYname)], cointegration_test(trainxp,trainyp)[1]) # Get the p-value of test for each pair\n",
      "        else:\n",
      "            return()\n",
      "    except ValueError:\n",
      "        return()\n",
      "    except TypeError:\n",
      "        return()\n",
      "\n",
      "\n",
      "if __name__ == '__main__':\n",
      "    trainCointPool = Pool(processes=4)\n",
      "    # Test just the first 100 pairs - remove [0:100] for full test\n",
      "    trainCointResult = pd.DataFrame(trainCointPool.map(coint, tickerpairs[0:100]))\n",
      "\n",
      "trainCointPool.close()"
     ],
     "language": "python",
     "metadata": {},
     "outputs": [
      {
       "output_type": "stream",
       "stream": "stdout",
       "text": [
        "                 0         1\n",
        "48  [(AAME, ADVS)]  0.000122\n",
        "61  [(AAME, AFOP)]  0.000218\n",
        "16  [(AAME, ACET)]  0.009350\n",
        "4   [(AAME, ABAX)]  0.014371\n",
        "22  [(AAME, ACIW)]  0.017331\n",
        "\n",
        "[5 rows x 2 columns]\n"
       ]
      }
     ],
     "prompt_number": 6
    },
    {
     "cell_type": "raw",
     "metadata": {},
     "source": [
      "# Run only when analyzing full data set to output training data set in pickle format\n",
      "# Change cell from raw text to code to run\n",
      "\n",
      "trainCointOutput = open('trainCointResult.pkl', 'wb')\n",
      "pkl.dump(trainCointResult, trainCointOutput, -1)\n",
      "trainCointOutput.close()"
     ]
    },
    {
     "cell_type": "raw",
     "metadata": {},
     "source": [
      "# Save a copy for github - only run once when analyzing full data set\n",
      "# Change cell from raw text to code to run\n",
      "\n",
      "!gzip -k trainCointResult.pkl"
     ]
    },
    {
     "cell_type": "code",
     "collapsed": false,
     "input": [
      "# Unzip github file\n",
      "!gunzip -c trainCointResult.pkl.gz > trainCointResult.pkl"
     ],
     "language": "python",
     "metadata": {},
     "outputs": [],
     "prompt_number": 11
    },
    {
     "cell_type": "code",
     "collapsed": false,
     "input": [
      "# Load results from pkl file\n",
      "trainCointInput = open('trainCointResult.pkl', 'rb')\n",
      "trainCointResult = pkl.load(trainCointInput)\n",
      "trainCointInput.close()"
     ],
     "language": "python",
     "metadata": {},
     "outputs": [],
     "prompt_number": 12
    },
    {
     "cell_type": "code",
     "collapsed": false,
     "input": [
      "smallCoint = trainCointResult.sort(columns = 1)[0:100]\n",
      "print smallCoint.head()"
     ],
     "language": "python",
     "metadata": {},
     "outputs": [
      {
       "output_type": "stream",
       "stream": "stdout",
       "text": [
        "                        0             1\n",
        "2876609    [(PATR, RDIB)]  0.000000e+00\n",
        "2483677  [(LINTA, LINTB)]  0.000000e+00\n",
        "124437     [(ADVS, HUBG)]  6.877388e-29\n",
        "3091438  [(SENEA, SENEB)]  1.191406e-25\n",
        "2876488    [(PATR, PNBK)]  1.387992e-25\n",
        "\n",
        "[5 rows x 2 columns]\n"
       ]
      }
     ],
     "prompt_number": 14
    },
    {
     "cell_type": "heading",
     "level": 3,
     "metadata": {},
     "source": [
      "Controlling the false discovery rate: Benjamini\u2013Hochberg procedure"
     ]
    },
    {
     "cell_type": "raw",
     "metadata": {},
     "source": [
      "# NOTE: Still too many pairs, we arbitrarily examine the top 100.\n",
      "# Not in use, but to run change cell from raw text to code\n",
      "\n",
      "# Control for false discovery rate using Benjamani Hockberg procedure (From Wikipedia):\n",
      "# Assume there are m hypothesis tests.\n",
      "# Order the p-values in increasing order and call them P_(1),P_(2),....,P_(m)\n",
      "# Then the steps for the procedure are as follows:\n",
      "# 1) For a given alpha, find the largest k such that P_(k) <= (k/m)*alpha\n",
      "# 2) Then reject all H_(i) for i = 1,2,...,k\n",
      "\n",
      "from __future__ import division  #need this bc python cannot do division for integers properly without it \n",
      "Cointp = trainCointResult.sort(columns = 1)\n",
      "cointpvalues = list(Cointp[Cointp.columns[1]])\n",
      "m = len(cointpvalues)\n",
      "alpha = 0.01  # False Discovery Rate (20% is used, Can tweak this if necessary)\n",
      "\n",
      "k = 0\n",
      "while cointpvalues[k] <= ((k+1)/m)*alpha:  # Obtain the k from step 1)\n",
      "    k += 1\n",
      "\n",
      "print k\n",
      "CointSaved = Cointp[:k]\n",
      "print CointSaved.head() # Significant pairs under BH procedure"
     ]
    },
    {
     "cell_type": "code",
     "collapsed": false,
     "input": [
      "# Time series plot of standardized stock prices\n",
      "# Updated to use parallel processing output\n",
      "\n",
      "plt.figure(3)\n",
      "i = 1\n",
      "for a in smallCoint.index[0:5]:\n",
      "  stock1 = tickerpairs[a][0]\n",
      "  stock2 = tickerpairs[a][1]\n",
      "  pairsprice1 = trainData[stock1]/(trainData[stock1][0])\n",
      "  pairsprice2 = trainData[stock2]/(trainData[stock2][0])\n",
      "  plt.subplot(5,1,i)\n",
      "  plt.plot_date(pairsprice1.index, pairsprice1,'r')\n",
      "  plt.plot_date(pairsprice1.index, pairsprice2,'b')\n",
      "  plt.legend([stock1,stock2])\n",
      "  plt.xlabel('Date')\n",
      "  plt.ylabel('Stock Price')\n",
      "  plt.title(stock1+' vs '+stock2) \n",
      "  i += 1\n",
      "\n",
      "plt.gcf().autofmt_xdate(rotation=90)   # Make the data labels on the x-axis vertical\n",
      "plt.show()"
     ],
     "language": "python",
     "metadata": {},
     "outputs": [],
     "prompt_number": 23
    },
    {
     "cell_type": "code",
     "collapsed": false,
     "input": [
      "# Time series plot of standardized gap in stock price\n",
      "\n",
      "plt.figure(4)\n",
      "i = 1\n",
      "for a in smallCoint.index[0:5]:\n",
      "  stock1 = tickerpairs[a][0]\n",
      "  stock2 = tickerpairs[a][1]\n",
      "  pairsprice1 = trainData[stock1]/(trainData[stock1][0])\n",
      "  pairsprice2 = trainData[stock2]/(trainData[stock2][0])\n",
      "  pairsgap = pairsprice1-pairsprice2\n",
      "  plt.subplot(5,1,i)\n",
      "  plt.plot(pairsprice1.index, pairsgap,'b')\n",
      "  plt.xlabel('Date')\n",
      "  plt.ylabel('Gap Price')\n",
      "  plt.title(stock1+' vs '+stock2)\n",
      "  i += 1\n",
      "\n",
      "plt.gcf().autofmt_xdate(rotation=90)    # Make the data labels on the x-axis vertical\n",
      "plt.show()"
     ],
     "language": "python",
     "metadata": {},
     "outputs": [],
     "prompt_number": 7
    },
    {
     "cell_type": "heading",
     "level": 3,
     "metadata": {},
     "source": [
      "Correlation "
     ]
    },
    {
     "cell_type": "code",
     "collapsed": false,
     "input": [
      "# Parallel processing for correlation test\n",
      "# Consider updating to take advantage of pandas.DataFrame.corr() but would need to change handling of output\n",
      "\n",
      "def correlate(tlist):\n",
      "    try:\n",
      "        xname = tlist[0]\n",
      "        yname = tlist[1]\n",
      "        x = trainData[xname]\n",
      "        y = trainData[yname]\n",
      "        if min(x.count(), y.count()) > 490:\n",
      "            corrs = x.corr(y)\n",
      "            return([(xname, yname)], corrs)\n",
      "        else:\n",
      "            return()\n",
      "    except ValueError:\n",
      "        return()\n",
      "    except TypeError:\n",
      "        return()\n",
      "\n",
      "\n",
      "if __name__ == '__main__':\n",
      "    trainCorrPool = Pool(processes=4)\n",
      "    # Test just the first 100 pairs - remove [0:100] for full test\n",
      "    trainCorrResult = pd.DataFrame(trainCorrPool.map(correlate, tickerpairs))\n",
      "    \n",
      "trainCorrPool.close()"
     ],
     "language": "python",
     "metadata": {},
     "outputs": [],
     "prompt_number": 58
    },
    {
     "cell_type": "raw",
     "metadata": {},
     "source": [
      "# Run when analyzing full data set only to output training data set in pickle format\n",
      "# Change cell from raw text to code to run\n",
      "\n",
      "trainCorrOutput = open('trainCorrResult.pkl', 'wb')\n",
      "pkl.dump(trainCorrResult, trainCorrOutput, -1)\n",
      "trainCorrOutput.close()\n",
      "\n",
      "pairscorrelated = trainCorrResult.sort(columns = 1, ascending=False)[0:5]\n",
      "print pairscorrelated"
     ]
    },
    {
     "cell_type": "raw",
     "metadata": {},
     "source": [
      "# Save a copy for github - only run once when analyzing full data set\n",
      "# Change cell from raw text to code to run\n",
      "\n",
      "!gzip -k trainCorrResult.pkl"
     ]
    },
    {
     "cell_type": "code",
     "collapsed": false,
     "input": [
      "# Unzip github file\n",
      "!gunzip -c trainCorrResult.pkl.gz > trainCorrResult.pkl"
     ],
     "language": "python",
     "metadata": {},
     "outputs": [],
     "prompt_number": 15
    },
    {
     "cell_type": "code",
     "collapsed": false,
     "input": [
      "#Read results from pkl file\n",
      "trainCorrInput = open('trainCorrResult.pkl', 'rb')\n",
      "trainCorrResult = pkl.load(trainCorrInput)\n",
      "trainCorrInput.close()\n",
      "\n",
      "\n",
      "pairscorrelated = trainCorrResult.sort(columns = 1, ascending=False)[0:5]\n",
      "print pairscorrelated"
     ],
     "language": "python",
     "metadata": {},
     "outputs": [
      {
       "output_type": "stream",
       "stream": "stdout",
       "text": [
        "            0   1\n",
        "1616076  None NaN\n",
        "1847483  None NaN\n",
        "1847418  None NaN\n",
        "1847421  None NaN\n",
        "1847431  None NaN\n",
        "\n",
        "[5 rows x 2 columns]\n"
       ]
      }
     ],
     "prompt_number": 16
    },
    {
     "cell_type": "code",
     "collapsed": false,
     "input": [
      "trainCorrResult.columns = ['pair','corr']\n",
      "trainCorrTop = trainCorrResult.dropna().sort(columns='corr', ascending=False)[0:100]\n",
      "trainCorrTop.head()"
     ],
     "language": "python",
     "metadata": {},
     "outputs": [
      {
       "html": [
        "<div style=\"max-height:1000px;max-width:1500px;overflow:auto;\">\n",
        "<table border=\"1\" class=\"dataframe\">\n",
        "  <thead>\n",
        "    <tr style=\"text-align: right;\">\n",
        "      <th></th>\n",
        "      <th>pair</th>\n",
        "      <th>corr</th>\n",
        "    </tr>\n",
        "  </thead>\n",
        "  <tbody>\n",
        "    <tr>\n",
        "      <th>3221878</th>\n",
        "      <td>   [(VONE, VTHR)]</td>\n",
        "      <td> 0.998255</td>\n",
        "    </tr>\n",
        "    <tr>\n",
        "      <th>2459008</th>\n",
        "      <td> [(LBTYA, LBTYK)]</td>\n",
        "      <td> 0.998026</td>\n",
        "    </tr>\n",
        "    <tr>\n",
        "      <th>3178525</th>\n",
        "      <td> [(TECUA, TECUB)]</td>\n",
        "      <td> 0.996770</td>\n",
        "    </tr>\n",
        "    <tr>\n",
        "      <th>1101073</th>\n",
        "      <td> [(CMCSA, CMCSK)]</td>\n",
        "      <td> 0.995945</td>\n",
        "    </tr>\n",
        "    <tr>\n",
        "      <th>3052453</th>\n",
        "      <td>  [(ROIA, ROIAK)]</td>\n",
        "      <td> 0.995695</td>\n",
        "    </tr>\n",
        "  </tbody>\n",
        "</table>\n",
        "<p>5 rows \u00d7 2 columns</p>\n",
        "</div>"
       ],
       "metadata": {},
       "output_type": "pyout",
       "prompt_number": 17,
       "text": [
        "                     pair      corr\n",
        "3221878    [(VONE, VTHR)]  0.998255\n",
        "2459008  [(LBTYA, LBTYK)]  0.998026\n",
        "3178525  [(TECUA, TECUB)]  0.996770\n",
        "1101073  [(CMCSA, CMCSK)]  0.995945\n",
        "3052453   [(ROIA, ROIAK)]  0.995695\n",
        "\n",
        "[5 rows x 2 columns]"
       ]
      }
     ],
     "prompt_number": 17
    },
    {
     "cell_type": "code",
     "collapsed": false,
     "input": [
      "# Time series plot of standardized stock prices\n",
      "# Updated to use parallel processing output\n",
      "\n",
      "plt.figure(5)\n",
      "i = 1\n",
      "for a in trainCorrTop.index[0:5]:\n",
      "  stock1 = tickerpairs[a][0]\n",
      "  stock2 = tickerpairs[a][1]\n",
      "  pairsprice1 = trainData[stock1]/(trainData[stock1][0])\n",
      "  pairsprice2 = trainData[stock2]/(trainData[stock2][0])\n",
      "  plt.subplot(5,1,i)\n",
      "  plt.plot_date(pairsprice1.index, pairsprice1,'r')\n",
      "  plt.plot_date(pairsprice1.index, pairsprice2,'b')\n",
      "  plt.legend([stock1,stock2])\n",
      "  plt.xlabel('Date')\n",
      "  plt.ylabel('Stock Price')\n",
      "  plt.title(stock1+' vs '+stock2) \n",
      "  i += 1\n",
      "\n",
      "plt.gcf().autofmt_xdate(rotation=90)   # Make the data labels on the x-axis vertical\n",
      "plt.show()"
     ],
     "language": "python",
     "metadata": {},
     "outputs": [],
     "prompt_number": 30
    },
    {
     "cell_type": "code",
     "collapsed": false,
     "input": [
      "# Time series plot of standardized gap in stock prices\n",
      "\n",
      "plt.figure(6)\n",
      "i = 1\n",
      "for a in trainCorrTop.index[0:5]:\n",
      "  stock1 = tickerpairs[a][0]\n",
      "  stock2 = tickerpairs[a][1]\n",
      "  pairsprice1 = trainData[stock1]/(trainData[stock1][0])\n",
      "  pairsprice2 = trainData[stock2]/(trainData[stock2][0])\n",
      "  pairsgap = pairsprice1-pairsprice2\n",
      "  plt.subplot(5,1,i)\n",
      "  plt.plot(pairsprice1.index, pairsgap,'b')\n",
      "  plt.xlabel('Date')\n",
      "  plt.ylabel('Gap Price')\n",
      "  plt.title(stock1 +' vs '+stock2)\n",
      "  i += 1\n",
      "\n",
      "plt.gcf().autofmt_xdate(rotation=90)    # Make the data labels on the x-axis vertical\n",
      "plt.show()"
     ],
     "language": "python",
     "metadata": {},
     "outputs": [],
     "prompt_number": 10
    },
    {
     "cell_type": "raw",
     "metadata": {},
     "source": [
      "# Histogram of the Correlation of the stock pairs\n",
      "# Not currently in use\n",
      "# Change cell from raw text to code to run\n",
      "\n",
      "correls = list(trainCorrResult[trainCorrResult.columns[1]])\n",
      "categories = ['< 0.0','0.0-0.1','0.1-0.2','0.2-0.3','0.3-0.4','0.4-0.5','0.5-0.6','0.6-0.7','0.7-0.8','0.8-0.9','0.9-1.0']\n",
      "\n",
      "freq0 = len([cor for cor in correls if cor < 0.0])\n",
      "freq1 = len([cor for cor in correls if 0.0 <= cor < 0.1])\n",
      "freq2 = len([cor for cor in correls if 0.1 <= cor < 0.2])\n",
      "freq3 = len([cor for cor in correls if 0.2 <= cor < 0.3])\n",
      "freq4 = len([cor for cor in correls if 0.3 <= cor < 0.4])\n",
      "freq5 = len([cor for cor in correls if 0.4 <= cor < 0.5])\n",
      "freq6 = len([cor for cor in correls if 0.5 <= cor < 0.6])\n",
      "freq7 = len([cor for cor in correls if 0.6 <= cor < 0.7])\n",
      "freq8 = len([cor for cor in correls if 0.7 <= cor < 0.8])\n",
      "freq9 = len([cor for cor in correls if 0.8 <= cor < 0.9])\n",
      "freq10 = len([cor for cor in correls if 0.9 <= cor < 1.0])\n",
      "\n",
      "cat = np.arange(len(categories))\n",
      "frequencies = [freq0,freq1,freq2,freq3,freq4,freq5,freq6,freq7,freq8,freq9,freq10]\n",
      "\n",
      "width = 1.0     # gives histogram aspect to the bar diagram\n",
      "\n",
      "ax = plt.axes()\n",
      "ax.set_xticks(cat + (width / 2))\n",
      "ax.set_xticklabels(categories)\n",
      "\n",
      "plt.bar(cat,frequencies,width)\n",
      "plt.xlabel('Correlation Ranges')\n",
      "plt.ylabel('Frequencies')\n",
      "plt.title('Histogram of Correlation of Stock Pairs') \n",
      "plt.show()"
     ]
    },
    {
     "cell_type": "heading",
     "level": 1,
     "metadata": {},
     "source": [
      "Test Data Set"
     ]
    },
    {
     "cell_type": "heading",
     "level": 3,
     "metadata": {},
     "source": [
      "Distance Method"
     ]
    },
    {
     "cell_type": "code",
     "collapsed": false,
     "input": [
      "# Parallel processing for mean sum-square-distance\n",
      "\n",
      "def dist(tlist):\n",
      "    xname = tickerpairs[tlist][0]\n",
      "    yname = tickerpairs[tlist][1]\n",
      "    x = testData[xname]/(testData[xname][0])\n",
      "    y = testData[yname]/(testData[yname][0])\n",
      "    # Remove any NA values\n",
      "    z = (x-y).dropna()\n",
      "    # Only consider pairs with most of data available\n",
      "    if len(z) > 248:\n",
      "        return([(xname, yname)], sum(map(lambda z:z**2, z)))\n",
      "    else:\n",
      "        return()\n",
      "\n",
      "if __name__ == '__main__':\n",
      "    testDistPool = Pool(processes=4)\n",
      "    # Tests just the number of pairs selected in smallssd\n",
      "    testDistResult = pd.DataFrame(testDistPool.map(dist, smallssd.index))\n",
      "\n",
      "testDistPool.close()"
     ],
     "language": "python",
     "metadata": {},
     "outputs": [],
     "prompt_number": 18
    },
    {
     "cell_type": "code",
     "collapsed": false,
     "input": [
      "plt.scatter(smallssd[1], testDistResult[1])\n",
      "plt.vlines(.3,-2,15, colors='r')\n",
      "plt.text(.31,11,'x = .3')\n",
      "plt.xlabel('Training SSD')\n",
      "plt.ylabel('Test SSD')\n",
      "plt.title('Consistency of SSD Method') \n",
      "plt.show()"
     ],
     "language": "python",
     "metadata": {},
     "outputs": [],
     "prompt_number": 19
    },
    {
     "cell_type": "code",
     "collapsed": false,
     "input": [
      "# Time series plot of standardized stock prices\n",
      "# Updated to use parallel processing output\n",
      "\n",
      "plt.figure(1)\n",
      "i = 1\n",
      "for a in smallssd.index[0:5]:\n",
      "  stock1 = tickerpairs[a][0]\n",
      "  stock2 = tickerpairs[a][1]\n",
      "  pairsprice1 = testData[stock1]/(testData[stock1][0])\n",
      "  pairsprice2 = testData[stock2]/(testData[stock2][0])\n",
      "  plt.subplot(5,1,i)\n",
      "  plt.plot_date(pairsprice1.index, pairsprice1,'r')\n",
      "  plt.plot_date(pairsprice1.index, pairsprice2,'b')\n",
      "  plt.legend([stock1,stock2])\n",
      "  plt.xlabel('Date')\n",
      "  plt.ylabel('Standardized Price')\n",
      "  plt.title('Time Series Plot of '+stock1+' vs '+stock2)\n",
      "  i += 1\n",
      "\n",
      "plt.gcf().autofmt_xdate(rotation=90)  #M ake the data labels on the x-axis vertical\n",
      "plt.show()"
     ],
     "language": "python",
     "metadata": {},
     "outputs": [],
     "prompt_number": 47
    },
    {
     "cell_type": "code",
     "collapsed": false,
     "input": [
      "#Time series plot of average gap in standardized price\n",
      "\n",
      "plt.figure(2)\n",
      "i = 1\n",
      "for a in smallssd.index[0:5]:\n",
      "  stock1 = tickerpairs[a][0]\n",
      "  stock2 = tickerpairs[a][1]\n",
      "  #Updated to reflect standardized price differential\n",
      "  pairsprice1 = testData[stock1]/(testData[stock1][0])\n",
      "  pairsprice2 = testData[stock2]/(testData[stock2][0])\n",
      "  pairsgap = pairsprice1-pairsprice2\n",
      "  plt.subplot(5,1,i)\n",
      "  plt.plot(pairsprice1.index, pairsgap,'b')\n",
      "  plt.xlabel('Date')\n",
      "  plt.ylabel('Price')\n",
      "  plt.title('Gap Price between '+stock1+' vs '+stock2)\n",
      "  i += 1\n",
      "\n",
      "plt.gcf().autofmt_xdate(rotation=90)    # Make the data labels on the x-axis vertical\n",
      "plt.show()"
     ],
     "language": "python",
     "metadata": {},
     "outputs": [],
     "prompt_number": 48
    },
    {
     "cell_type": "heading",
     "level": 3,
     "metadata": {},
     "source": [
      "Cointegration"
     ]
    },
    {
     "cell_type": "code",
     "collapsed": false,
     "input": [
      "# Parallel processing for cointegration test:\n",
      "\n",
      "def cointegration_test(y, x):\n",
      "        result = stat.OLS(y, x).fit()\n",
      "        return(ts.adfuller(result.resid))\n",
      "\n",
      "\n",
      "def coint(cointTestingTlist):\n",
      "    try:\n",
      "        cointTestingXname = tickerpairs[cointTestingTlist][0]\n",
      "        cointTestingYname = tickerpairs[cointTestingTlist][1]\n",
      "        testCointX = testData[cointTestingXname]\n",
      "        testCointY = testData[cointTestingYname]\n",
      "        if min(testCointX.count(), testCointY.count()) > 248:\n",
      "            testxclean = testCointX[testCointX.notnull() & testCointY.notnull()]\n",
      "            testyclean = testCointY[testCointX.notnull() & testCointY.notnull()]\n",
      "            testxp = list(testxclean)\n",
      "            testyp = list(testyclean)\n",
      "            return([(cointTestingXname, cointTestingYname)], cointegration_test(testxp,testyp)[1]) # Get the p-value of test for each pair\n",
      "        else:\n",
      "            return()\n",
      "    except ValueError:\n",
      "        return()\n",
      "    except TypeError:\n",
      "        return()\n",
      "\n",
      "\n",
      "if __name__ == '__main__':\n",
      "    testCointPool = Pool(processes=4)\n",
      "    # Test just the first 100 pairs - remove [0:100] for full test\n",
      "    testCointResult = pd.DataFrame(testCointPool.map(coint, smallCoint.index))\n",
      "\n",
      "testCointPool.close()\n",
      "testsmallCoint = testCointResult.sort(columns = 1)[0:5]\n",
      "print testsmallCoint"
     ],
     "language": "python",
     "metadata": {},
     "outputs": [
      {
       "output_type": "stream",
       "stream": "stdout",
       "text": [
        "                  0             1\n",
        "1  [(LINTA, LINTB)]  1.231724e-26\n",
        "3  [(SENEA, SENEB)]  1.257753e-08\n",
        "0    [(PATR, RDIB)]  1.496377e-01\n",
        "2    [(ADVS, HUBG)]  4.528192e-01\n",
        "4    [(PATR, PNBK)]  9.694963e-01\n",
        "\n",
        "[5 rows x 2 columns]\n"
       ]
      }
     ],
     "prompt_number": 9
    },
    {
     "cell_type": "code",
     "collapsed": false,
     "input": [
      "plt.scatter(smallCoint[1][0:5], testCointResult[1][0:5])\n",
      "plt.xlim(-1e-25,1e-24)\n",
      "plt.xlabel('Training Cointegration')\n",
      "plt.ylabel('Test Cointegration')\n",
      "plt.title('Consistency of Cointegration Method') \n",
      "plt.show()"
     ],
     "language": "python",
     "metadata": {},
     "outputs": [],
     "prompt_number": 49
    },
    {
     "cell_type": "code",
     "collapsed": false,
     "input": [
      "# Note scale of training p-values\n",
      "smallCoint.head()"
     ],
     "language": "python",
     "metadata": {},
     "outputs": [
      {
       "html": [
        "<div style=\"max-height:1000px;max-width:1500px;overflow:auto;\">\n",
        "<table border=\"1\" class=\"dataframe\">\n",
        "  <thead>\n",
        "    <tr style=\"text-align: right;\">\n",
        "      <th></th>\n",
        "      <th>0</th>\n",
        "      <th>1</th>\n",
        "    </tr>\n",
        "  </thead>\n",
        "  <tbody>\n",
        "    <tr>\n",
        "      <th>2876609</th>\n",
        "      <td>   [(PATR, RDIB)]</td>\n",
        "      <td> 0.000000e+00</td>\n",
        "    </tr>\n",
        "    <tr>\n",
        "      <th>2483677</th>\n",
        "      <td> [(LINTA, LINTB)]</td>\n",
        "      <td> 0.000000e+00</td>\n",
        "    </tr>\n",
        "    <tr>\n",
        "      <th>124437 </th>\n",
        "      <td>   [(ADVS, HUBG)]</td>\n",
        "      <td> 6.877388e-29</td>\n",
        "    </tr>\n",
        "    <tr>\n",
        "      <th>3091438</th>\n",
        "      <td> [(SENEA, SENEB)]</td>\n",
        "      <td> 1.191406e-25</td>\n",
        "    </tr>\n",
        "    <tr>\n",
        "      <th>2876488</th>\n",
        "      <td>   [(PATR, PNBK)]</td>\n",
        "      <td> 1.387992e-25</td>\n",
        "    </tr>\n",
        "  </tbody>\n",
        "</table>\n",
        "<p>5 rows \u00d7 2 columns</p>\n",
        "</div>"
       ],
       "metadata": {},
       "output_type": "pyout",
       "prompt_number": 46,
       "text": [
        "                        0             1\n",
        "2876609    [(PATR, RDIB)]  0.000000e+00\n",
        "2483677  [(LINTA, LINTB)]  0.000000e+00\n",
        "124437     [(ADVS, HUBG)]  6.877388e-29\n",
        "3091438  [(SENEA, SENEB)]  1.191406e-25\n",
        "2876488    [(PATR, PNBK)]  1.387992e-25\n",
        "\n",
        "[5 rows x 2 columns]"
       ]
      }
     ],
     "prompt_number": 46
    },
    {
     "cell_type": "code",
     "collapsed": false,
     "input": [
      "# Note same pairs test p-values - 3 of 5 are NOT SIGNIFICANT\n",
      "testCointResult.head()"
     ],
     "language": "python",
     "metadata": {},
     "outputs": [
      {
       "html": [
        "<div style=\"max-height:1000px;max-width:1500px;overflow:auto;\">\n",
        "<table border=\"1\" class=\"dataframe\">\n",
        "  <thead>\n",
        "    <tr style=\"text-align: right;\">\n",
        "      <th></th>\n",
        "      <th>0</th>\n",
        "      <th>1</th>\n",
        "    </tr>\n",
        "  </thead>\n",
        "  <tbody>\n",
        "    <tr>\n",
        "      <th>0</th>\n",
        "      <td>   [(PATR, RDIB)]</td>\n",
        "      <td> 1.496377e-01</td>\n",
        "    </tr>\n",
        "    <tr>\n",
        "      <th>1</th>\n",
        "      <td> [(LINTA, LINTB)]</td>\n",
        "      <td> 1.231724e-26</td>\n",
        "    </tr>\n",
        "    <tr>\n",
        "      <th>2</th>\n",
        "      <td>   [(ADVS, HUBG)]</td>\n",
        "      <td> 4.528192e-01</td>\n",
        "    </tr>\n",
        "    <tr>\n",
        "      <th>3</th>\n",
        "      <td> [(SENEA, SENEB)]</td>\n",
        "      <td> 1.257753e-08</td>\n",
        "    </tr>\n",
        "    <tr>\n",
        "      <th>4</th>\n",
        "      <td>   [(PATR, PNBK)]</td>\n",
        "      <td> 9.694963e-01</td>\n",
        "    </tr>\n",
        "  </tbody>\n",
        "</table>\n",
        "<p>5 rows \u00d7 2 columns</p>\n",
        "</div>"
       ],
       "metadata": {},
       "output_type": "pyout",
       "prompt_number": 31,
       "text": [
        "                  0             1\n",
        "0    [(PATR, RDIB)]  1.496377e-01\n",
        "1  [(LINTA, LINTB)]  1.231724e-26\n",
        "2    [(ADVS, HUBG)]  4.528192e-01\n",
        "3  [(SENEA, SENEB)]  1.257753e-08\n",
        "4    [(PATR, PNBK)]  9.694963e-01\n",
        "\n",
        "[5 rows x 2 columns]"
       ]
      }
     ],
     "prompt_number": 31
    },
    {
     "cell_type": "code",
     "collapsed": false,
     "input": [
      "# Concatenate the cointegration results for further evaluation\n",
      "\n",
      "df = pd.DataFrame(smallCoint.reset_index())\n",
      "df['2'] = testCointResult[1]\n",
      "df.dropna(axis=0,how='any')\n",
      "df.columns = ['index','pair','train','test']\n",
      "df.head()"
     ],
     "language": "python",
     "metadata": {},
     "outputs": [
      {
       "html": [
        "<div style=\"max-height:1000px;max-width:1500px;overflow:auto;\">\n",
        "<table border=\"1\" class=\"dataframe\">\n",
        "  <thead>\n",
        "    <tr style=\"text-align: right;\">\n",
        "      <th></th>\n",
        "      <th>index</th>\n",
        "      <th>pair</th>\n",
        "      <th>train</th>\n",
        "      <th>test</th>\n",
        "    </tr>\n",
        "  </thead>\n",
        "  <tbody>\n",
        "    <tr>\n",
        "      <th>0</th>\n",
        "      <td> 2876609</td>\n",
        "      <td>   [(PATR, RDIB)]</td>\n",
        "      <td> 0.000000e+00</td>\n",
        "      <td> 1.496377e-01</td>\n",
        "    </tr>\n",
        "    <tr>\n",
        "      <th>1</th>\n",
        "      <td> 2483677</td>\n",
        "      <td> [(LINTA, LINTB)]</td>\n",
        "      <td> 0.000000e+00</td>\n",
        "      <td> 1.231724e-26</td>\n",
        "    </tr>\n",
        "    <tr>\n",
        "      <th>2</th>\n",
        "      <td>  124437</td>\n",
        "      <td>   [(ADVS, HUBG)]</td>\n",
        "      <td> 6.877388e-29</td>\n",
        "      <td> 4.528192e-01</td>\n",
        "    </tr>\n",
        "    <tr>\n",
        "      <th>3</th>\n",
        "      <td> 3091438</td>\n",
        "      <td> [(SENEA, SENEB)]</td>\n",
        "      <td> 1.191406e-25</td>\n",
        "      <td> 1.257753e-08</td>\n",
        "    </tr>\n",
        "    <tr>\n",
        "      <th>4</th>\n",
        "      <td> 2876488</td>\n",
        "      <td>   [(PATR, PNBK)]</td>\n",
        "      <td> 1.387992e-25</td>\n",
        "      <td> 9.694963e-01</td>\n",
        "    </tr>\n",
        "  </tbody>\n",
        "</table>\n",
        "<p>5 rows \u00d7 4 columns</p>\n",
        "</div>"
       ],
       "metadata": {},
       "output_type": "pyout",
       "prompt_number": 25,
       "text": [
        "     index              pair         train          test\n",
        "0  2876609    [(PATR, RDIB)]  0.000000e+00  1.496377e-01\n",
        "1  2483677  [(LINTA, LINTB)]  0.000000e+00  1.231724e-26\n",
        "2   124437    [(ADVS, HUBG)]  6.877388e-29  4.528192e-01\n",
        "3  3091438  [(SENEA, SENEB)]  1.191406e-25  1.257753e-08\n",
        "4  2876488    [(PATR, PNBK)]  1.387992e-25  9.694963e-01\n",
        "\n",
        "[5 rows x 4 columns]"
       ]
      }
     ],
     "prompt_number": 25
    },
    {
     "cell_type": "code",
     "collapsed": false,
     "input": [
      "# Note that training data box plot does not even appear due to scale issues - the training p-values are so minute\n",
      "\n",
      "bp = df.boxplot(column=['train','test'])\n",
      "plt.show()"
     ],
     "language": "python",
     "metadata": {},
     "outputs": [],
     "prompt_number": 30
    },
    {
     "cell_type": "code",
     "collapsed": false,
     "input": [
      "# Time series plot of standardized stock prices\n",
      "# Updated to use parallel processing output\n",
      "\n",
      "plt.figure(1)\n",
      "i = 1\n",
      "for a in smallCoint.index[0:5]:\n",
      "  stock1 = tickerpairs[a][0]\n",
      "  stock2 = tickerpairs[a][1]\n",
      "  pairsprice1 = testData[stock1]/(testData[stock1][0])\n",
      "  pairsprice2 = testData[stock2]/(testData[stock2][0])\n",
      "  plt.subplot(5,1,i)\n",
      "  plt.plot_date(pairsprice1.index, pairsprice1,'r')\n",
      "  plt.plot_date(pairsprice1.index, pairsprice2,'b')\n",
      "  plt.legend([stock1,stock2])\n",
      "  plt.xlabel('Date')\n",
      "  plt.ylabel('Standardized Price')\n",
      "  plt.title('Time Series Plot of '+stock1+' vs '+stock2)\n",
      "  i += 1\n",
      "\n",
      "plt.gcf().autofmt_xdate(rotation=90)  # Make the data labels on the x-axis vertical\n",
      "plt.show()"
     ],
     "language": "python",
     "metadata": {},
     "outputs": [],
     "prompt_number": 19
    },
    {
     "cell_type": "code",
     "collapsed": false,
     "input": [
      "# Time series plot of average gap in standardized price\n",
      "\n",
      "plt.figure(2)\n",
      "i = 1\n",
      "for a in smallCoint.index[0:5]:\n",
      "  stock1 = tickerpairs[a][0]\n",
      "  stock2 = tickerpairs[a][1]\n",
      "  #Updated to reflect standardized price differential\n",
      "  pairsprice1 = testData[stock1]/(testData[stock1][0])\n",
      "  pairsprice2 = testData[stock2]/(testData[stock2][0])\n",
      "  pairsgap = pairsprice1-pairsprice2\n",
      "  plt.subplot(5,1,i)\n",
      "  plt.plot(pairsprice1.index, pairsgap,'b')\n",
      "  plt.xlabel('Date')\n",
      "  plt.ylabel('Price')\n",
      "  plt.title('Gap Price between '+stock1+' vs '+stock2)\n",
      "  i += 1\n",
      "\n",
      "plt.gcf().autofmt_xdate(rotation=90)    # Make the data labels on the x-axis vertical\n",
      "plt.show()"
     ],
     "language": "python",
     "metadata": {},
     "outputs": [],
     "prompt_number": 11
    },
    {
     "cell_type": "heading",
     "level": 3,
     "metadata": {},
     "source": [
      "Correlation"
     ]
    },
    {
     "cell_type": "code",
     "collapsed": false,
     "input": [
      "# Parallel processing for correlation test\n",
      "# Consider updating to take advantage of pandas.DataFrame.corr() but would need to change handling of output\n",
      "\n",
      "def correlate(tlist):\n",
      "    try:\n",
      "        xname = tickerpairs[tlist][0]\n",
      "        yname = tickerpairs[tlist][1]\n",
      "        x = testData[xname]\n",
      "        y = testData[yname]\n",
      "        if min(x.count(), y.count()) > 240:\n",
      "            corrs = x.corr(y)\n",
      "            return([(xname, yname)], corrs)\n",
      "        else:\n",
      "            return()\n",
      "    except ValueError:\n",
      "        return()\n",
      "    except TypeError:\n",
      "        return()\n",
      "\n",
      "\n",
      "if __name__ == '__main__':\n",
      "    testCorrPool = Pool(processes=4)\n",
      "    #Test just the first 100 pairs - remove [0:100] for full test\n",
      "    testCorrResult = pd.DataFrame(testCorrPool.map(correlate, trainCorrTop.index))\n",
      "    \n",
      "testCorrPool.close()"
     ],
     "language": "python",
     "metadata": {},
     "outputs": [],
     "prompt_number": 30
    },
    {
     "cell_type": "code",
     "collapsed": false,
     "input": [
      "testCorrResult.columns = ['pair','corr']\n",
      "plt.scatter(trainCorrTop['corr'], testCorrResult['corr'])\n",
      "plt.vlines(.993,-1,1, colors='r')\n",
      "plt.text(.994,0,'x = .993')\n",
      "plt.xlabel('Training Correlation')\n",
      "plt.ylabel('Test Correlation')\n",
      "plt.title('Consistency of Correlation Method') \n",
      "plt.show()"
     ],
     "language": "python",
     "metadata": {},
     "outputs": [],
     "prompt_number": 38
    },
    {
     "cell_type": "code",
     "collapsed": false,
     "input": [
      "# Time series plot of standardized stock prices\n",
      "# Updated to use parallel processing output\n",
      "\n",
      "plt.figure(1)\n",
      "i = 1\n",
      "for a in trainCorrTop.index[0:5]:\n",
      "  stock1 = tickerpairs[a][0]\n",
      "  stock2 = tickerpairs[a][1]\n",
      "  pairsprice1 = testData[stock1]/(testData[stock1][0])\n",
      "  pairsprice2 = testData[stock2]/(testData[stock2][0])\n",
      "  plt.subplot(5,1,i)\n",
      "  plt.plot_date(pairsprice1.index, pairsprice1,'r')\n",
      "  plt.plot_date(pairsprice1.index, pairsprice2,'b')\n",
      "  plt.legend([stock1,stock2])\n",
      "  plt.xlabel('Date')\n",
      "  plt.ylabel('Standardized Price')\n",
      "  plt.title('Time Series Plot of '+stock1+' vs '+stock2)\n",
      "  i += 1\n",
      "\n",
      "plt.gcf().autofmt_xdate(rotation=90)  # Make the data labels on the x-axis vertical\n",
      "plt.show()"
     ],
     "language": "python",
     "metadata": {},
     "outputs": [],
     "prompt_number": 16
    },
    {
     "cell_type": "code",
     "collapsed": false,
     "input": [
      "#Time series plot of average gap in standardized price\n",
      "\n",
      "plt.figure(2)\n",
      "i = 1\n",
      "for a in trainCorrTop.index[0:5]:\n",
      "  stock1 = tickerpairs[a][0]\n",
      "  stock2 = tickerpairs[a][1]\n",
      "  #Updated to reflect standardized price differential\n",
      "  pairsprice1 = testData[stock1]/(testData[stock1][0])\n",
      "  pairsprice2 = testData[stock2]/(testData[stock2][0])\n",
      "  pairsgap = pairsprice1-pairsprice2\n",
      "  plt.subplot(5,1,i)\n",
      "  plt.plot(pairsprice1.index, pairsgap,'b')\n",
      "  plt.xlabel('Date')\n",
      "  plt.ylabel('Price')\n",
      "  plt.title('Gap Price between '+stock1+' vs '+stock2)\n",
      "  i += 1\n",
      "\n",
      "plt.gcf().autofmt_xdate(rotation=90)    # Make the data labels on the x-axis vertical\n",
      "plt.show()"
     ],
     "language": "python",
     "metadata": {},
     "outputs": [],
     "prompt_number": 17
    },
    {
     "cell_type": "code",
     "collapsed": false,
     "input": [],
     "language": "python",
     "metadata": {},
     "outputs": []
    }
   ],
   "metadata": {}
  }
 ]
}